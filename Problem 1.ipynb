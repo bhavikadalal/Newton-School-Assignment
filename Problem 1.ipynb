{
 "cells": [
  {
   "cell_type": "code",
   "execution_count": 25,
   "id": "36c6e50b",
   "metadata": {},
   "outputs": [],
   "source": [
    "import tensorflow as tf\n",
    "from tensorflow.keras.models import Sequential\n",
    "from tensorflow.keras.layers import Dense, Conv2D, MaxPooling2D, Flatten\n",
    "import numpy as np\n",
    "import matplotlib.pyplot as plt\n",
    "import pandas as pd"
   ]
  },
  {
   "cell_type": "code",
   "execution_count": 26,
   "id": "8128f3e2",
   "metadata": {},
   "outputs": [],
   "source": [
    "training_set = pd.read_csv(r\"C:\\Users\\risha\\Desktop\\Assignment\\train_data - Sheet1.csv\")\n",
    "training_imgs = [x for x in list(training_set.Images)]\n",
    "training_labels_1 = list(training_set['Name'])\n",
    "training_labels_2 = list(training_set['Weapon_name'])\n",
    "training_labels_3 = list(training_set['Action'])\n",
    "training_labels_4 = list(training_set['Intent'])\n",
    "training_set = pd.DataFrame( {'Images': training_imgs,'Name': training_labels_1, 'Weapon_name' : training_labels_2, 'Action' : training_labels_3, 'Intent' : training_labels_4})\n",
    "#Changing the type  to str\n",
    "training_set.Name = training_set.Name.astype(str)\n",
    "training_set.Weapon_name = training_set.Weapon_name.astype(str)\n",
    "training_set.Action = training_set.Action.astype(str)\n",
    "training_set.Intent = training_set.Intent.astype(str)"
   ]
  },
  {
   "cell_type": "code",
   "execution_count": 27,
   "id": "8c58e086",
   "metadata": {},
   "outputs": [],
   "source": [
    "training_set['New_class'] = training_set['Name'] + training_set['Weapon_name'] + training_set['Action'] + training_set['Intent']"
   ]
  },
  {
   "cell_type": "code",
   "execution_count": 28,
   "id": "f74447e3",
   "metadata": {},
   "outputs": [
    {
     "name": "stdout",
     "output_type": "stream",
     "text": [
      "   Images    Name Weapon_name    Action Intent                 New_class\n",
      "0  1.jpeg   Human       Sword  Standing  NoWar   HumanSwordStandingNoWar\n",
      "1  2.jpeg   Human      Chakra  Standing  NoWar  HumanChakraStandingNoWar\n",
      "2  3.jpeg   Human     Dhanush  Standing    War   HumanDhanushStandingWar\n",
      "3  4.jpeg   Human      Chakra   Running    War     HumanChakraRunningWar\n",
      "4  5.jpeg  Animal     Nothing  Fighting    War  AnimalNothingFightingWar\n"
     ]
    }
   ],
   "source": [
    "print(training_set.head())"
   ]
  },
  {
   "cell_type": "code",
   "execution_count": 30,
   "id": "e2997096",
   "metadata": {},
   "outputs": [
    {
     "name": "stdout",
     "output_type": "stream",
     "text": [
      "Found 5 validated image filenames belonging to 5 classes.\n"
     ]
    }
   ],
   "source": [
    "from tensorflow.keras.preprocessing.image import ImageDataGenerator\n",
    "train_dataGen = ImageDataGenerator(rescale = 1./255,\n",
    "                                  shear_range = 0.2,\n",
    "                                  zoom_range = 0.2,\n",
    "                                  horizontal_flip = True)\n",
    "train_generator = train_dataGen.flow_from_dataframe(\n",
    "                                        dataframe = training_set,\n",
    "                                        directory=\"\",x_col=\"Images\",\n",
    "                                        y_col=\"New_class\",\n",
    "                                        class_mode=\"categorical\",\n",
    "                                        target_size=(128,128),\n",
    "                                        batch_size=32)"
   ]
  },
  {
   "cell_type": "code",
   "execution_count": 31,
   "id": "005446f7",
   "metadata": {},
   "outputs": [],
   "source": [
    "classifier = Sequential()\n",
    "classifier.add(Conv2D(filters = 56,kernel_size = (3,3), activation = 'relu', input_shape = (128,128,3)))\n",
    "classifier.add(MaxPooling2D(pool_size = (2,2)))\n",
    "classifier.add(Conv2D(32,(3,3),activation = 'relu'))\n",
    "classifier.add(MaxPooling2D(pool_size = (2,2)))\n",
    "classifier.add(Flatten())\n",
    "classifier.add(Dense(units = 64, activation = 'relu'))\n",
    "classifier.add(Dense(units = 5 , activation = 'softmax'))"
   ]
  },
  {
   "cell_type": "code",
   "execution_count": 32,
   "id": "84bf941e",
   "metadata": {},
   "outputs": [],
   "source": [
    "classifier.compile(optimizer = 'adam', loss = 'categorical_crossentropy', metrics = ['categorical_accuracy','accuracy'])"
   ]
  },
  {
   "cell_type": "code",
   "execution_count": 33,
   "id": "f6c89b1d",
   "metadata": {},
   "outputs": [
    {
     "name": "stdout",
     "output_type": "stream",
     "text": [
      "Model: \"sequential_1\"\n",
      "_________________________________________________________________\n",
      " Layer (type)                Output Shape              Param #   \n",
      "=================================================================\n",
      " conv2d_2 (Conv2D)           (None, 126, 126, 56)      1568      \n",
      "                                                                 \n",
      " max_pooling2d_2 (MaxPooling  (None, 63, 63, 56)       0         \n",
      " 2D)                                                             \n",
      "                                                                 \n",
      " conv2d_3 (Conv2D)           (None, 61, 61, 32)        16160     \n",
      "                                                                 \n",
      " max_pooling2d_3 (MaxPooling  (None, 30, 30, 32)       0         \n",
      " 2D)                                                             \n",
      "                                                                 \n",
      " flatten_1 (Flatten)         (None, 28800)             0         \n",
      "                                                                 \n",
      " dense_2 (Dense)             (None, 64)                1843264   \n",
      "                                                                 \n",
      " dense_3 (Dense)             (None, 5)                 325       \n",
      "                                                                 \n",
      "=================================================================\n",
      "Total params: 1,861,317\n",
      "Trainable params: 1,861,317\n",
      "Non-trainable params: 0\n",
      "_________________________________________________________________\n"
     ]
    }
   ],
   "source": [
    "classifier.summary()"
   ]
  },
  {
   "cell_type": "code",
   "execution_count": 9,
   "id": "5c7f72fc",
   "metadata": {},
   "outputs": [
    {
     "name": "stdout",
     "output_type": "stream",
     "text": [
      "Epoch 1/5\n"
     ]
    },
    {
     "name": "stderr",
     "output_type": "stream",
     "text": [
      "C:\\Users\\risha\\AppData\\Local\\Temp/ipykernel_18524/92086068.py:1: UserWarning: `Model.fit_generator` is deprecated and will be removed in a future version. Please use `Model.fit`, which supports generators.\n",
      "  classifier.fit_generator(train_generator, epochs = 5)\n"
     ]
    },
    {
     "name": "stdout",
     "output_type": "stream",
     "text": [
      "1/1 [==============================] - 0s 477ms/step - loss: 1.6428 - categorical_accuracy: 0.2000 - accuracy: 0.2000\n",
      "Epoch 2/5\n",
      "1/1 [==============================] - 0s 123ms/step - loss: 1.8320 - categorical_accuracy: 0.4000 - accuracy: 0.4000\n",
      "Epoch 3/5\n",
      "1/1 [==============================] - 0s 119ms/step - loss: 1.5844 - categorical_accuracy: 0.4000 - accuracy: 0.4000\n",
      "Epoch 4/5\n",
      "1/1 [==============================] - 0s 118ms/step - loss: 1.3095 - categorical_accuracy: 0.4000 - accuracy: 0.4000\n",
      "Epoch 5/5\n",
      "1/1 [==============================] - 0s 120ms/step - loss: 1.0380 - categorical_accuracy: 0.8000 - accuracy: 0.8000\n"
     ]
    },
    {
     "data": {
      "text/plain": [
       "<keras.callbacks.History at 0x1f612bc2910>"
      ]
     },
     "execution_count": 9,
     "metadata": {},
     "output_type": "execute_result"
    }
   ],
   "source": [
    "classifier.fit_generator(train_generator, epochs = 5)"
   ]
  },
  {
   "cell_type": "code",
   "execution_count": 10,
   "id": "4bebf03c",
   "metadata": {},
   "outputs": [],
   "source": [
    "test_set = pd.read_csv(r\"C:\\Users\\risha\\Desktop\\Assignment\\test_data.csv\")\n",
    "test_imgs = [x for x in list(test_set.Images)]\n",
    "test_set = pd.DataFrame( {'Images': test_imgs })"
   ]
  },
  {
   "cell_type": "code",
   "execution_count": 11,
   "id": "fda2e4e3",
   "metadata": {},
   "outputs": [
    {
     "name": "stdout",
     "output_type": "stream",
     "text": [
      "{'AnimalNothingFightingWar': 0, 'HumanChakraRunningWar': 1, 'HumanChakraStandingNoWar': 2, 'HumanDhanushStandingWar': 3, 'HumanSwordStandingNoWar': 4}\n"
     ]
    }
   ],
   "source": [
    "classes = train_generator.class_indices\n",
    "print(classes)"
   ]
  },
  {
   "cell_type": "code",
   "execution_count": 13,
   "id": "9f753556",
   "metadata": {},
   "outputs": [
    {
     "name": "stdout",
     "output_type": "stream",
     "text": [
      "{0: 'AnimalNothingFightingWar', 1: 'HumanChakraRunningWar', 2: 'HumanChakraStandingNoWar', 3: 'HumanDhanushStandingWar', 4: 'HumanSwordStandingNoWar'}\n"
     ]
    }
   ],
   "source": [
    "inverted_classes = dict(map(reversed, classes.items()))\n",
    "print(inverted_classes)"
   ]
  },
  {
   "cell_type": "code",
   "execution_count": 18,
   "id": "90777eb9",
   "metadata": {},
   "outputs": [],
   "source": [
    "from keras.preprocessing import image\n",
    "Y_pred = []\n",
    "for i in range(len(test_set)):\n",
    "  img = image.load_img(path= test_set.Images[i],target_size=(128,128,3))\n",
    "  img = image.img_to_array(img)\n",
    "  test_img = img.reshape((1,128,128,3))\n",
    "  img_class = np.argmax(classifier.predict(test_img), axis=-1)\n",
    "  prediction = img_class[0]\n",
    "  Y_pred.append(prediction)"
   ]
  },
  {
   "cell_type": "code",
   "execution_count": 19,
   "id": "651c6f0e",
   "metadata": {},
   "outputs": [
    {
     "name": "stdout",
     "output_type": "stream",
     "text": [
      "[4, 2, 3, 1, 0]\n"
     ]
    }
   ],
   "source": [
    "print(Y_pred)"
   ]
  },
  {
   "cell_type": "code",
   "execution_count": 20,
   "id": "e9f52ea4",
   "metadata": {},
   "outputs": [],
   "source": [
    "prediction_classes = [ inverted_classes.get(item,item) for item in Y_pred ]"
   ]
  },
  {
   "cell_type": "code",
   "execution_count": 21,
   "id": "90c646a0",
   "metadata": {},
   "outputs": [
    {
     "name": "stdout",
     "output_type": "stream",
     "text": [
      "['HumanSwordStandingNoWar', 'HumanChakraStandingNoWar', 'HumanDhanushStandingWar', 'HumanChakraRunningWar', 'AnimalNothingFightingWar']\n"
     ]
    }
   ],
   "source": [
    "print(prediction_classes)"
   ]
  },
  {
   "cell_type": "markdown",
   "id": "663af1f6",
   "metadata": {},
   "source": [
    "Prediction on a single Image"
   ]
  },
  {
   "cell_type": "code",
   "execution_count": 24,
   "id": "6772784d",
   "metadata": {},
   "outputs": [
    {
     "name": "stdout",
     "output_type": "stream",
     "text": [
      "['HumanSwordStandingNoWar']\n"
     ]
    }
   ],
   "source": [
    "from keras.preprocessing import image\n",
    "Y_pred=[]\n",
    "img=image.load_img(path=r\"C:\\Users\\risha\\Desktop\\Assignment\\test\\192-1925014_arjun-mahabharat-3d-animation-movie-arjun-mahabharat.jpg\",target_size=(128,128,3))\n",
    "img=image.img_to_array(img)\n",
    "test_img=img.reshape((1,128,128,3))\n",
    "img_class=np.argmax(classifier.predict(test_img),axis=-1)\n",
    "prediction=img_class[0]\n",
    "Y_pred.append(prediction)\n",
    "prediction_classes=[inverted_classes.get(item,item) for item in Y_pred]\n",
    "print(prediction_classes)"
   ]
  }
 ],
 "metadata": {
  "kernelspec": {
   "display_name": "Python 3 (ipykernel)",
   "language": "python",
   "name": "python3"
  },
  "language_info": {
   "codemirror_mode": {
    "name": "ipython",
    "version": 3
   },
   "file_extension": ".py",
   "mimetype": "text/x-python",
   "name": "python",
   "nbconvert_exporter": "python",
   "pygments_lexer": "ipython3",
   "version": "3.9.7"
  }
 },
 "nbformat": 4,
 "nbformat_minor": 5
}
